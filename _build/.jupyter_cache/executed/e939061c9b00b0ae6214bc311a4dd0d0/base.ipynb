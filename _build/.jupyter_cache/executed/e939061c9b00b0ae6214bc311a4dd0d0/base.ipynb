{
 "cells": [
  {
   "cell_type": "code",
   "execution_count": 1,
   "metadata": {},
   "outputs": [],
   "source": [
    "import numpy as np\n",
    "import autograd.numpy as anp\n",
    "\n",
    "# Model parameters\n",
    "γ = 10.\n",
    "ρ = 1.5\n",
    "β = np.exp(-0.005)\n",
    "a = 0.0355\n",
    "ϕ_1 = 0.0125\n",
    "ϕ_2 = 400.\n",
    "α_k = 0.025\n",
    "U_k = np.array([1,0])\n",
    "σ_k = np.array([0.477,0,0]) * 0.01\n",
    "A = np.array([[np.exp(-0.014),0],[0,np.exp(-0.0022)]])\n",
    "B = np.array([[0.011,0.025,0],[0,0,0.119]]) * 0.01\n",
    "\n",
    "args = (γ, ρ, β, a, ϕ_1, ϕ_2, α_k, U_k, σ_k, A, B)\n",
    "\n",
    "def eq_cond_no_habit(X_t, X_tp1, W_tp1, q, *args):\n",
    "    # Parameters for the model\n",
    "    γ, ρ, β, a, ϕ_1, ϕ_2, α_k, U_k, σ_k, A, B = args\n",
    "\n",
    "    # Variables in X_t:\n",
    "    # log V_t/C_t, log R_t/C_t,\n",
    "    # log C_t/K_t, log I_t/K_t,\n",
    "    # log (K_{t}/K_{t-1}), Z_{1,t}, Z_{2,t}\n",
    "    vmc_t, rmc_t, cmk_t, imk_t, gk_t, z1_t, z2_t = X_t.ravel()\n",
    "    vmc_tp1, rmc_tp1, cmk_tp1, imk_tp1, gk_tp1, z1_tp1, z2_tp1 = X_tp1.ravel()\n",
    "\n",
    "    # Exogenous states\n",
    "    Z_t = anp.array([z1_t, z2_t])\n",
    "    Z_tp1 = anp.array([z1_tp1, z2_tp1])\n",
    "    # Stochastic depreciation, capital growth and log ψ\n",
    "    g_dep = -α_k + U_k.T@Z_t + σ_k.T@W_tp1\n",
    "    log_ψ = anp.log(ϕ_1*ϕ_2) + (ϕ_1-1)*anp.log(1+ϕ_2*anp.exp(imk_t)) + g_dep\n",
    "    # log SDF, excluding the change of measure\n",
    "    sdf_ex = anp.log(β) + (ρ-1)*(vmc_tp1+cmk_tp1+gk_tp1-cmk_t-rmc_t) - ρ*(cmk_tp1+gk_tp1-cmk_t)\n",
    "\n",
    "    # Marginals and pricing kernel\n",
    "    mk_tp1 = vmc_tp1+cmk_tp1\n",
    "    mc_tp1 = anp.log(1-β) + ρ*(vmc_tp1)\n",
    "    log_Q = sdf_ex + mk_tp1 - mc_tp1\n",
    "\n",
    "    # Eq0: Change of measure evaluated at γ=0\n",
    "    m = vmc_tp1 + cmk_tp1 + gk_tp1 - cmk_t - rmc_t\n",
    "    # Eq1: Recursive utility\n",
    "    res_1 = (1-β) + β*anp.exp((1-ρ)*(rmc_t)) - anp.exp((1-ρ)*(vmc_t))\n",
    "    # Eq2: FOC for consumption/investment\n",
    "    res_2 = anp.exp(log_Q + log_ψ)\n",
    "    # Eq3: Investment ratio\n",
    "    res_3 = a - anp.exp(cmk_t) - anp.exp(imk_t)\n",
    "    # Eq4: capital\n",
    "    res_4 = gk_tp1 - ϕ_1 * anp.log(1+ϕ_2*anp.exp(imk_t)) - g_dep\n",
    "    # Eq5-6: State process\n",
    "    res_5 = (A@Z_t + B@W_tp1 - Z_tp1)[0]\n",
    "    res_6 = (A@Z_t + B@W_tp1 - Z_tp1)[1]\n",
    "\n",
    "    return anp.array([m, res_1,res_2,res_3,res_4,res_5, res_6])"
   ]
  },
  {
   "cell_type": "code",
   "execution_count": 2,
   "metadata": {},
   "outputs": [],
   "source": [
    "from scipy import optimize\n",
    "\n",
    "def ss_func_no_habit(*args):\n",
    "    # Extra parameters for the model\n",
    "    γ, ρ, β, a, ϕ_1, ϕ_2, α_k, U_k, σ_k, A, B = args\n",
    "\n",
    "    # Optimize over c_t-k_t\n",
    "    def f(cmk):\n",
    "        # Level investment\n",
    "        I = a - np.exp(cmk)\n",
    "        # Capital growth\n",
    "        g_k = ϕ_1 * np.log(1 + ϕ_2 * I) - α_k\n",
    "        # Set growth rate to capital growth\n",
    "        η = g_k\n",
    "        # Increment in capital induced by a marginal decrease in consumption\n",
    "        log_ψ =  np.log(ϕ_1) + np.log(ϕ_2) + (ϕ_1-1)*np.log(1 + ϕ_2 * I) - α_k\n",
    "        # v\n",
    "        vmc = (np.log(1-β) - np.log(1-β*np.exp((1-ρ)*η)))/(1-ρ)\n",
    "        # sdf, note that sdf_c = sdf_u in steady states\n",
    "        sdf = np.log(β) - ρ*η\n",
    "        # log_Q\n",
    "        mk_next = vmc+cmk\n",
    "        mc_next = np.log(1-β) + ρ*vmc\n",
    "        log_Q = mk_next - mc_next + sdf\n",
    "        return np.exp(log_Q + log_ψ) - 1\n",
    "\n",
    "    # Find roots\n",
    "    cmk_star = optimize.bisect(f,-40,np.log(a))\n",
    "    cmk = cmk_star\n",
    "\n",
    "    # Calculate steady states\n",
    "    z_1 = 0.\n",
    "    z_2 = 0.\n",
    "    Z = np.array([z_1,z_2])\n",
    "    I = a - np.exp(cmk)\n",
    "    g_k = ϕ_1 * np.log(1 + ϕ_2 * I) - α_k\n",
    "    η = g_k\n",
    "    \n",
    "    # c, k, h, u, sdf, v, r, mu, mh, mc, imk\n",
    "    vmc = (np.log(1-β) - np.log(1-β*np.exp((1-ρ)*η)))/(1-ρ)\n",
    "    rmc = vmc + η\n",
    "    imk = np.log(a - np.exp(cmk))\n",
    "\n",
    "    X_0 = np.array([vmc,rmc,cmk,imk,g_k,z_1,z_2])\n",
    "    return X_0"
   ]
  },
  {
   "cell_type": "code",
   "execution_count": 3,
   "metadata": {},
   "outputs": [
    {
     "name": "stderr",
     "output_type": "stream",
     "text": [
      "/var/folders/jc/9v589bkn7l71jxtqk_7k35l00000gp/T/ipykernel_77733/2167222835.py:18: RuntimeWarning: invalid value encountered in log\n",
      "  vmc = (np.log(1-β) - np.log(1-β*np.exp((1-ρ)*η)))/(1-ρ)\n",
      "/opt/anaconda3/lib/python3.8/site-packages/autograd/tracer.py:14: UserWarning: Output seems independent of input.\n",
      "  warnings.warn(\"Output seems independent of input.\")\n"
     ]
    }
   ],
   "source": [
    "from expansion import recursive_expansion\n",
    "\n",
    "modelSol = recursive_expansion(eq_cond=eq_cond_no_habit,\n",
    "                               ss=ss_func_no_habit,\n",
    "                               var_shape=(4,3,3),\n",
    "                               γ=args[0],\n",
    "                               second_order=False,\n",
    "                               args=args)\n",
    "X_tp1 = modelSol.X_tp1"
   ]
  },
  {
   "cell_type": "code",
   "execution_count": 4,
   "metadata": {},
   "outputs": [
    {
     "data": {
      "text/plain": [
       "{'w': array([[ 0.004005,  0.009103,  0.      ],\n",
       "        [ 0.004032,  0.009165,  0.      ],\n",
       "        [ 0.001305,  0.002966,  0.      ],\n",
       "        [-0.000792, -0.001799,  0.      ],\n",
       "        [ 0.00477 ,  0.      ,  0.      ],\n",
       "        [ 0.00011 ,  0.00025 ,  0.      ],\n",
       "        [ 0.      ,  0.      ,  0.00119 ]]),\n",
       " 'c': array([[-0.123193],\n",
       "        [-0.124033],\n",
       "        [-0.04014 ],\n",
       "        [ 0.024351],\n",
       "        [ 0.000273],\n",
       "        [ 0.      ],\n",
       "        [ 0.      ]]),\n",
       " 'x': array([[-0.      , 35.904646,  0.      ],\n",
       "        [-0.      , 36.149241,  0.      ],\n",
       "        [-0.      , 11.698877,  0.      ],\n",
       "        [ 0.      , -7.097123,  0.      ],\n",
       "        [-0.      ,  0.91918 ,  0.      ],\n",
       "        [ 0.      ,  0.986098,  0.      ],\n",
       "        [ 0.      ,  0.      ,  0.997802]])}"
      ]
     },
     "execution_count": 4,
     "metadata": {},
     "output_type": "execute_result"
    }
   ],
   "source": [
    "np.set_printoptions(precision=6,suppress=True)\n",
    "modelSol.X1_tp1.coeffs # First order LOM coefficients"
   ]
  },
  {
   "cell_type": "code",
   "execution_count": 5,
   "metadata": {},
   "outputs": [
    {
     "data": {
      "image/png": "[encoded data removed]",
      "text/plain": [
       "<Figure size 432x288 with 1 Axes>"
      ]
     },
     "metadata": {
      "needs_background": "light"
     },
     "output_type": "display_data"
    }
   ],
   "source": [
    "T = 100 # time horizon for simulation\n",
    "_, _, n_W = modelSol.var_shape # the number of shocks within this model\n",
    "Ws_1 = np.zeros((T,n_W)) # \"generate\" zero shocks throughout the horizon T=100\n",
    "sim_result_1 = modelSol.simulate(Ws_1) # feed the generated shocks to the simulate method\n",
    "\n",
    "Ws_2 = np.random.multivariate_normal(np.zeros(n_W), np.eye(n_W), size = T) # generate N(0,I) shocks\n",
    "sim_result_2 = modelSol.simulate(Ws_2) # feed the generated shocks to the simulate method\n",
    "\n",
    "import matplotlib.pyplot as plt\n",
    "# sim_result contains the simulated value of all model variables over the specified horizon\n",
    "# recall that we arranged log(C_t/K_t) as the 3rd jump variable, and python index starts from 0\n",
    "plt.plot(sim_result_1[:,2], 'r', lw = .8, alpha = .8, label = 'deterministic') \n",
    "plt.plot(sim_result_2[:,2], 'b', lw = .8, alpha = .8, label = 'stochastic')\n",
    "plt.legend()\n",
    "plt.title(r'$\\log(\\frac{C_t}{K_t})$ simulation')\n",
    "plt.show()"
   ]
  },
  {
   "cell_type": "code",
   "execution_count": 6,
   "metadata": {
    "scrolled": true
   },
   "outputs": [
    {
     "data": {
      "image/png": "[encoded data removed]",
      "text/plain": [
       "<Figure size 432x288 with 1 Axes>"
      ]
     },
     "metadata": {
      "needs_background": "light"
     },
     "output_type": "display_data"
    }
   ],
   "source": [
    "states_IRF = []\n",
    "jumps_IRF = []\n",
    "T = 500 # time horizon for IRF computation\n",
    "for shock_index in [0,1,2]: # we have three shocks for this model\n",
    "    states, jumps = modelSol.IRF(T, shock_index)\n",
    "    states_IRF.append(states)\n",
    "    jumps_IRF.append(jumps)\n",
    "\n",
    "plt.plot(np.cumsum(states_IRF[0][:,0])*100, color='b', lw=0.8, alpha=0.8, label = \"$W_1$\")\n",
    "plt.plot(np.cumsum(states_IRF[1][:,0])*100, color='r', lw=0.8, alpha=0.8, label = \"$W_2$\")\n",
    "plt.plot(np.cumsum(states_IRF[2][:,0])*100, color='g', lw=0.8, alpha=0.8, label = \"$W_3$\")\n",
    "plt.legend()\n",
    "plt.xlabel(\"Quarters\")\n",
    "plt.title(\"Impulse Responses of $\\log(K_t)$\")\n",
    "# plt.savefig(\"IncomeIRF\", dpi = 300)\n",
    "plt.show()"
   ]
  },
  {
   "cell_type": "code",
   "execution_count": 7,
   "metadata": {},
   "outputs": [],
   "source": [
    "def log_SDF_ex_no_habit(X_t, X_tp1, W_tp1, q, *args):\n",
    "    γ, ρ, β, a, ϕ_1, ϕ_2, α_k, U_k, σ_k, A, B = args\n",
    "    \n",
    "    vmc_t, rmc_t, cmk_t, imk_t, gk_t, z1_t, z2_t = X_t.ravel()\n",
    "    vmc_tp1, rmc_tp1, cmk_tp1, imk_tp1, gk_tp1, z1_tp1, z2_tp1 = X_tp1.ravel()\n",
    "\n",
    "    sdf_ex = anp.log(β) + (ρ-1)*(vmc_tp1+cmk_tp1+gk_tp1-cmk_t-rmc_t) - ρ*(cmk_tp1+gk_tp1-cmk_t)\n",
    "    \n",
    "    return sdf_ex"
   ]
  },
  {
   "cell_type": "code",
   "execution_count": 8,
   "metadata": {
    "scrolled": true
   },
   "outputs": [
    {
     "name": "stderr",
     "output_type": "stream",
     "text": [
      "/opt/anaconda3/lib/python3.8/site-packages/autograd/tracer.py:14: UserWarning: Output seems independent of input.\n",
      "  warnings.warn(\"Output seems independent of input.\")\n"
     ]
    }
   ],
   "source": [
    "log_SDF = modelSol.approximate_fun(log_SDF_ex_no_habit, args) + modelSol.log_M"
   ]
  },
  {
   "cell_type": "code",
   "execution_count": 9,
   "metadata": {},
   "outputs": [],
   "source": [
    "X_growth = modelSol.X_tp1 - modelSol.X_t\n",
    "X_growth_list = X_growth.split()\n",
    "CmK_growth = X_growth_list[2]\n",
    "K_growth = modelSol.X_tp1.split()[4]\n",
    "C_growth = CmK_growth + K_growth"
   ]
  },
  {
   "cell_type": "code",
   "execution_count": 10,
   "metadata": {},
   "outputs": [],
   "source": [
    "from elasticity import price_elasticity, exposure_elasticity\n",
    "price = price_elasticity(C_growth, \n",
    "                         log_SDF,\n",
    "                         modelSol.Z1_tp1,\n",
    "                         None,\n",
    "                         400,\n",
    "                         0,\n",
    "                         0.4)\n",
    "\n",
    "exposure = exposure_elasticity(C_growth, \n",
    "                         modelSol.Z1_tp1,\n",
    "                         None,\n",
    "                         400,\n",
    "                         0,\n",
    "                         0.4)"
   ]
  },
  {
   "cell_type": "code",
   "execution_count": 11,
   "metadata": {},
   "outputs": [
    {
     "data": {
      "image/png": "[encoded data removed]",
      "text/plain": [
       "<Figure size 432x288 with 2 Axes>"
      ]
     },
     "metadata": {
      "needs_background": "light"
     },
     "output_type": "display_data"
    }
   ],
   "source": [
    "fig, axs = plt.subplots(1,2)\n",
    "axs[0].plot(exposure, color='b', lw=0.8, alpha=0.8)\n",
    "axs[0].set_title('Exposure elasticity of $\\log C$')\n",
    "axs[1].plot(price, color='b', lw=0.8, alpha=0.8)\n",
    "axs[1].set_title('Price elasticity of $\\log C$')\n",
    "plt.tight_layout()\n",
    "plt.show()"
   ]
  },
  {
   "cell_type": "code",
   "execution_count": null,
   "metadata": {},
   "outputs": [],
   "source": []
  }
 ],
 "metadata": {
  "kernelspec": {
   "display_name": "Python 3 (ipykernel)",
   "language": "python",
   "name": "python3"
  },
  "language_info": {
   "codemirror_mode": {
    "name": "ipython",
    "version": 3
   },
   "file_extension": ".py",
   "mimetype": "text/x-python",
   "name": "python",
   "nbconvert_exporter": "python",
   "pygments_lexer": "ipython3",
   "version": "3.8.11"
  }
 },
 "nbformat": 4,
 "nbformat_minor": 4
}